{
 "cells": [
  {
   "cell_type": "code",
   "id": "initial_id",
   "metadata": {
    "collapsed": true,
    "ExecuteTime": {
     "end_time": "2024-09-08T09:08:19.615133Z",
     "start_time": "2024-09-08T09:08:18.157319Z"
    }
   },
   "source": [
    "import openpyxl\n",
    "from os.path import join, abspath\n",
    "\n",
    "filepath = join('..', 'data', 'line.xlsx')\n",
    "filepath = abspath(filepath)\n",
    "WB = openpyxl.load_workbook(filepath, read_only=True)\n",
    "sh = WB['Лист1']\n",
    "sh['A1']"
   ],
   "outputs": [
    {
     "data": {
      "text/plain": [
       "<ReadOnlyCell 'Лист1'.A1>"
      ]
     },
     "execution_count": 1,
     "metadata": {},
     "output_type": "execute_result"
    }
   ],
   "execution_count": 1
  },
  {
   "metadata": {
    "ExecuteTime": {
     "end_time": "2024-09-08T09:09:53.753275Z",
     "start_time": "2024-09-08T09:09:53.734574Z"
    }
   },
   "cell_type": "code",
   "source": "sh.max_row",
   "id": "136c1bc9739d5d57",
   "outputs": [
    {
     "data": {
      "text/plain": [
       "10"
      ]
     },
     "execution_count": 2,
     "metadata": {},
     "output_type": "execute_result"
    }
   ],
   "execution_count": 2
  },
  {
   "metadata": {
    "ExecuteTime": {
     "end_time": "2024-09-08T09:09:58.462518Z",
     "start_time": "2024-09-08T09:09:58.431520Z"
    }
   },
   "cell_type": "code",
   "source": "sh.max_column",
   "id": "9aae632237b0ac0d",
   "outputs": [
    {
     "data": {
      "text/plain": [
       "2"
      ]
     },
     "execution_count": 3,
     "metadata": {},
     "output_type": "execute_result"
    }
   ],
   "execution_count": 3
  },
  {
   "metadata": {},
   "cell_type": "code",
   "outputs": [],
   "execution_count": null,
   "source": "",
   "id": "5f0955e14328cafd"
  }
 ],
 "metadata": {
  "kernelspec": {
   "display_name": "Python 3",
   "language": "python",
   "name": "python3"
  },
  "language_info": {
   "codemirror_mode": {
    "name": "ipython",
    "version": 2
   },
   "file_extension": ".py",
   "mimetype": "text/x-python",
   "name": "python",
   "nbconvert_exporter": "python",
   "pygments_lexer": "ipython2",
   "version": "2.7.6"
  }
 },
 "nbformat": 4,
 "nbformat_minor": 5
}
