{
 "cells": [
  {
   "cell_type": "code",
   "id": "initial_id",
   "metadata": {
    "collapsed": true,
    "ExecuteTime": {
     "end_time": "2024-09-28T05:49:59.945159Z",
     "start_time": "2024-09-28T05:49:58.629160Z"
    }
   },
   "source": "import numpy as np",
   "outputs": [],
   "execution_count": 1
  },
  {
   "metadata": {
    "ExecuteTime": {
     "end_time": "2024-09-28T05:50:28.654254Z",
     "start_time": "2024-09-28T05:50:28.625722Z"
    }
   },
   "cell_type": "code",
   "source": [
    "M1 = np.identity(4, dtype=np.float32)\n",
    "M1"
   ],
   "id": "71bb16a2917f0841",
   "outputs": [
    {
     "data": {
      "text/plain": [
       "array([[1., 0., 0., 0.],\n",
       "       [0., 1., 0., 0.],\n",
       "       [0., 0., 1., 0.],\n",
       "       [0., 0., 0., 1.]], dtype=float32)"
      ]
     },
     "execution_count": 2,
     "metadata": {},
     "output_type": "execute_result"
    }
   ],
   "execution_count": 2
  },
  {
   "metadata": {
    "ExecuteTime": {
     "end_time": "2024-09-28T06:46:31.471334Z",
     "start_time": "2024-09-28T06:46:31.448622Z"
    }
   },
   "cell_type": "code",
   "source": [
    "M1[0,1] = 3\n",
    "M1[0,2] = 7\n",
    "M1[0,3] = 7\n",
    "M1[1,2] = 3\n",
    "M1[1,3] = 1\n",
    "M1[3,2] = 3\n",
    "M1"
   ],
   "id": "6d653050df158da7",
   "outputs": [
    {
     "data": {
      "text/plain": [
       "array([[1., 3., 7., 7.],\n",
       "       [0., 1., 3., 1.],\n",
       "       [0., 0., 1., 0.],\n",
       "       [0., 0., 3., 1.]], dtype=float32)"
      ]
     },
     "execution_count": 3,
     "metadata": {},
     "output_type": "execute_result"
    }
   ],
   "execution_count": 3
  },
  {
   "metadata": {
    "ExecuteTime": {
     "end_time": "2024-09-28T07:13:16.507027Z",
     "start_time": "2024-09-28T07:13:16.489026Z"
    }
   },
   "cell_type": "code",
   "source": [
    "from itertools import product\n",
    "\n",
    "def fill_zeros(M):\n",
    "    R, C = M.shape\n",
    "    R = range(0, R)\n",
    "    C = range(0, C)\n",
    "    for i,k in product(R,C):\n",
    "        if M[i,k] == 0:\n",
    "            M[i,k] = 1/M[k,i]\n",
    "            \n",
    "fill_zeros(M1)\n",
    "M1"
   ],
   "id": "7918f3ef6bda9ada",
   "outputs": [
    {
     "data": {
      "text/plain": [
       "array([[1.        , 3.        , 7.        , 7.        ],\n",
       "       [0.33333334, 1.        , 3.        , 1.        ],\n",
       "       [0.14285715, 0.33333334, 1.        , 0.33333334],\n",
       "       [0.14285715, 1.        , 3.        , 1.        ]], dtype=float32)"
      ]
     },
     "execution_count": 4,
     "metadata": {},
     "output_type": "execute_result"
    }
   ],
   "execution_count": 4
  },
  {
   "metadata": {
    "ExecuteTime": {
     "end_time": "2024-09-28T07:15:21.116513Z",
     "start_time": "2024-09-28T07:15:21.086750Z"
    }
   },
   "cell_type": "code",
   "source": "np.linalg.eig(M1)",
   "id": "162a9f81c985f837",
   "outputs": [
    {
     "data": {
      "text/plain": [
       "EigResult(eigenvalues=array([ 4.1267595e+00+0.j        , -6.3379698e-02+0.72047794j,\n",
       "       -6.3379698e-02-0.72047794j, -1.0518467e-08+0.j        ],\n",
       "      dtype=complex64), eigenvectors=array([[ 9.3730772e-01+0.j        ,  9.6967179e-01+0.j        ,\n",
       "         9.6967179e-01-0.j        ,  6.0118047e-08+0.j        ],\n",
       "       [ 2.5808930e-01+0.j        , -9.4189398e-02-0.06367329j,\n",
       "        -9.4189398e-02+0.06367329j, -9.5257932e-01+0.j        ],\n",
       "       [ 9.3240224e-02+0.j        , -3.5126176e-02-0.06362246j,\n",
       "        -3.5126176e-02+0.06362246j,  2.7216554e-01+0.j        ],\n",
       "       [ 2.1482660e-01+0.j        , -7.1811132e-02+0.1907149j ,\n",
       "        -7.1811132e-02-0.1907149j ,  1.3608275e-01+0.j        ]],\n",
       "      dtype=complex64))"
      ]
     },
     "execution_count": 5,
     "metadata": {},
     "output_type": "execute_result"
    }
   ],
   "execution_count": 5
  }
 ],
 "metadata": {
  "kernelspec": {
   "display_name": "Python 3",
   "language": "python",
   "name": "python3"
  },
  "language_info": {
   "codemirror_mode": {
    "name": "ipython",
    "version": 2
   },
   "file_extension": ".py",
   "mimetype": "text/x-python",
   "name": "python",
   "nbconvert_exporter": "python",
   "pygments_lexer": "ipython2",
   "version": "2.7.6"
  }
 },
 "nbformat": 4,
 "nbformat_minor": 5
}
