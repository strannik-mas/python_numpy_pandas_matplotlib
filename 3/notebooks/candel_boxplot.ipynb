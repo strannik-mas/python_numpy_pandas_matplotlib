{
 "cells": [
  {
   "cell_type": "code",
   "id": "initial_id",
   "metadata": {
    "collapsed": true,
    "ExecuteTime": {
     "end_time": "2024-09-27T10:24:03.499801Z",
     "start_time": "2024-09-27T10:24:01.161127Z"
    }
   },
   "source": [
    "import numpy as np\n",
    "import matplotlib.pyplot as plt"
   ],
   "outputs": [],
   "execution_count": 1
  },
  {
   "metadata": {
    "ExecuteTime": {
     "end_time": "2024-09-23T18:12:56.820164Z",
     "start_time": "2024-09-23T18:12:56.447517Z"
    }
   },
   "cell_type": "code",
   "source": [
    "A = np.random.rand(200)*4 + 4\n",
    "B = np.random.randn(300)*2 + 7\n",
    "# C = np.array([A,B]) #массивы разной длины, так не надо\n",
    "C = np.concatenate((A, B), 0)\n",
    "plt.boxplot([A, B, C])\n",
    "plt.show()"
   ],
   "id": "8a662276aab021f1",
   "outputs": [
    {
     "data": {
      "text/plain": [
       "<Figure size 640x480 with 1 Axes>"
      ],
      "image/png": "[encoded data removed]"
     },
     "metadata": {},
     "output_type": "display_data"
    }
   ],
   "execution_count": 4
  },
  {
   "metadata": {
    "ExecuteTime": {
     "end_time": "2024-09-27T13:29:08.539482Z",
     "start_time": "2024-09-27T13:29:08.527405Z"
    }
   },
   "cell_type": "code",
   "source": [
    "M = np.array([\n",
    "    [1,2,3,4],\n",
    "    [5,6,7,8],\n",
    "    [9,10,11,12],\n",
    "    [13,14,15,20]\n",
    "], dtype=np.float32)\n",
    "M = np.asmatrix(M)\n",
    "determinant = np.linalg.det(M)\n",
    "determinant"
   ],
   "id": "47b036f5ecff0b39",
   "outputs": [
    {
     "data": {
      "text/plain": [
       "np.float32(5.684342e-14)"
      ]
     },
     "execution_count": 32,
     "metadata": {},
     "output_type": "execute_result"
    }
   ],
   "execution_count": 32
  },
  {
   "metadata": {
    "ExecuteTime": {
     "end_time": "2024-09-27T13:39:56.913796Z",
     "start_time": "2024-09-27T13:39:56.903327Z"
    }
   },
   "cell_type": "code",
   "source": [
    "B = np.asmatrix(np.array([-1,2,12,6], dtype=np.float32))\n",
    "B"
   ],
   "id": "fa1421fa6097bfb2",
   "outputs": [
    {
     "data": {
      "text/plain": [
       "matrix([[-1.,  2., 12.,  6.]], dtype=float32)"
      ]
     },
     "execution_count": 35,
     "metadata": {},
     "output_type": "execute_result"
    }
   ],
   "execution_count": 35
  },
  {
   "metadata": {
    "ExecuteTime": {
     "end_time": "2024-09-27T13:40:03.060494Z",
     "start_time": "2024-09-27T13:40:03.048017Z"
    }
   },
   "cell_type": "code",
   "source": [
    "M1 = np.linalg.inv(M)\n",
    "M1"
   ],
   "id": "faf08da61bd8f43a",
   "outputs": [
    {
     "data": {
      "text/plain": [
       "matrix([[-2.8147498e+14,  5.6294995e+14, -2.8147498e+14,  1.8750000e-01],\n",
       "        [ 5.6294995e+14, -1.1258999e+15,  5.6294995e+14, -1.2500000e-01],\n",
       "        [-2.8147498e+14,  5.6294995e+14, -2.8147498e+14, -3.1250000e-01],\n",
       "        [ 3.1250000e-01, -3.7500000e-01, -1.8750000e-01,  2.5000000e-01]],\n",
       "       dtype=float32)"
      ]
     },
     "execution_count": 36,
     "metadata": {},
     "output_type": "execute_result"
    }
   ],
   "execution_count": 36
  },
  {
   "metadata": {
    "ExecuteTime": {
     "end_time": "2024-09-27T13:40:08.220877Z",
     "start_time": "2024-09-27T13:40:08.209818Z"
    }
   },
   "cell_type": "code",
   "source": [
    "X = np.matmul(B,M1)\n",
    "X"
   ],
   "id": "fa2ce0f18bbdfdee",
   "outputs": [
    {
     "data": {
      "text/plain": [
       "matrix([[-1.9703248e+15,  3.9406497e+15, -1.9703248e+15, -2.6875000e+00]],\n",
       "       dtype=float32)"
      ]
     },
     "execution_count": 38,
     "metadata": {},
     "output_type": "execute_result"
    }
   ],
   "execution_count": 38
  },
  {
   "metadata": {
    "ExecuteTime": {
     "end_time": "2024-09-27T13:40:14.041591Z",
     "start_time": "2024-09-27T13:40:14.028379Z"
    }
   },
   "cell_type": "code",
   "source": [
    "X = B*M1\n",
    "X"
   ],
   "id": "59e0b09623b3a775",
   "outputs": [
    {
     "data": {
      "text/plain": [
       "matrix([[-1.9703248e+15,  3.9406497e+15, -1.9703248e+15, -2.6875000e+00]],\n",
       "       dtype=float32)"
      ]
     },
     "execution_count": 39,
     "metadata": {},
     "output_type": "execute_result"
    }
   ],
   "execution_count": 39
  },
  {
   "metadata": {
    "ExecuteTime": {
     "end_time": "2024-09-27T13:40:17.496381Z",
     "start_time": "2024-09-27T13:40:17.482418Z"
    }
   },
   "cell_type": "code",
   "source": "X*M",
   "id": "74e0a8e93c0cd306",
   "outputs": [
    {
     "data": {
      "text/plain": [
       "matrix([[0., 0., 0., 0.]], dtype=float32)"
      ]
     },
     "execution_count": 40,
     "metadata": {},
     "output_type": "execute_result"
    }
   ],
   "execution_count": 40
  },
  {
   "metadata": {
    "ExecuteTime": {
     "end_time": "2024-09-27T14:06:31.438175Z",
     "start_time": "2024-09-27T14:06:31.421982Z"
    }
   },
   "cell_type": "code",
   "source": [
    "M = np.array([\n",
    "    [1,2,3,4],\n",
    "    [5,6,7,8],\n",
    "    [9,10,11,12],\n",
    "    [13,14,15,20]\n",
    "], dtype=np.float32)\n",
    "B = np.array([-1,2,12,6], dtype=np.float32)\n",
    "X = np.linalg.solve(M, B)\n",
    "X"
   ],
   "id": "de895971e5aea415",
   "outputs": [
    {
     "data": {
      "text/plain": [
       "array([-1.9703248e+15,  3.9406497e+15, -1.9703248e+15, -1.8125000e+00],\n",
       "      dtype=float32)"
      ]
     },
     "execution_count": 42,
     "metadata": {},
     "output_type": "execute_result"
    }
   ],
   "execution_count": 42
  },
  {
   "metadata": {
    "ExecuteTime": {
     "end_time": "2024-09-27T14:06:51.599261Z",
     "start_time": "2024-09-27T14:06:51.579320Z"
    }
   },
   "cell_type": "code",
   "source": [
    "A = M + np.identity(4)\n",
    "A"
   ],
   "id": "37069f882d6b0c72",
   "outputs": [
    {
     "data": {
      "text/plain": [
       "array([[ 2.,  2.,  3.,  4.],\n",
       "       [ 5.,  7.,  7.,  8.],\n",
       "       [ 9., 10., 12., 12.],\n",
       "       [13., 14., 15., 21.]])"
      ]
     },
     "execution_count": 43,
     "metadata": {},
     "output_type": "execute_result"
    }
   ],
   "execution_count": 43
  },
  {
   "metadata": {
    "ExecuteTime": {
     "end_time": "2024-09-27T14:08:36.322775Z",
     "start_time": "2024-09-27T14:08:36.310774Z"
    }
   },
   "cell_type": "code",
   "source": [
    "s = np.random.rand(4)\n",
    "s"
   ],
   "id": "8ce156b729ac800e",
   "outputs": [
    {
     "data": {
      "text/plain": [
       "array([0.97726326, 0.85731644, 0.89970187, 0.56833076])"
      ]
     },
     "execution_count": 44,
     "metadata": {},
     "output_type": "execute_result"
    }
   ],
   "execution_count": 44
  },
  {
   "metadata": {
    "ExecuteTime": {
     "end_time": "2024-09-27T14:09:52.396506Z",
     "start_time": "2024-09-27T14:09:52.386685Z"
    }
   },
   "cell_type": "code",
   "source": [
    "s = np.matmul(A,s) + B\n",
    "s"
   ],
   "id": "f2e34293d9b00c5f",
   "outputs": [
    {
     "data": {
      "text/plain": [
       "array([16773.83140009, 38487.45343177, 60222.23779569, 91420.46159347])"
      ]
     },
     "execution_count": 48,
     "metadata": {},
     "output_type": "execute_result"
    }
   ],
   "execution_count": 48
  },
  {
   "metadata": {
    "ExecuteTime": {
     "end_time": "2024-09-27T14:12:07.981884Z",
     "start_time": "2024-09-27T14:12:07.969335Z"
    }
   },
   "cell_type": "code",
   "source": [
    "d = np.linalg.det(M)\n",
    "d"
   ],
   "id": "4bad22879c11c207",
   "outputs": [
    {
     "data": {
      "text/plain": [
       "np.float32(5.684342e-14)"
      ]
     },
     "execution_count": 49,
     "metadata": {},
     "output_type": "execute_result"
    }
   ],
   "execution_count": 49
  },
  {
   "metadata": {
    "ExecuteTime": {
     "end_time": "2024-09-27T14:15:52.348315Z",
     "start_time": "2024-09-27T14:15:52.340243Z"
    }
   },
   "cell_type": "code",
   "source": [
    "A1 = M/(2*d) + np.identity(4)\n",
    "B1 = B / (2*d)"
   ],
   "id": "85ea7bf0fd23cf1c",
   "outputs": [],
   "execution_count": 55
  },
  {
   "metadata": {
    "ExecuteTime": {
     "end_time": "2024-09-27T18:08:33.628073Z",
     "start_time": "2024-09-27T18:08:33.613969Z"
    }
   },
   "cell_type": "code",
   "source": [
    "s = np.matmul(A1, s) + B1\n",
    "s"
   ],
   "id": "a089546d07e9d06e",
   "outputs": [
    {
     "data": {
      "text/plain": [
       "array([2.98876265e+120, 6.85287219e+120, 1.07169817e+121, 1.62892916e+121])"
      ]
     },
     "execution_count": 59,
     "metadata": {},
     "output_type": "execute_result"
    }
   ],
   "execution_count": 59
  },
  {
   "metadata": {
    "ExecuteTime": {
     "end_time": "2024-09-27T18:58:03.195002Z",
     "start_time": "2024-09-27T18:58:03.179020Z"
    }
   },
   "cell_type": "code",
   "source": [
    "data = np.random.randn(1000) * 10\n",
    "h1 = np.histogram(data)\n",
    "h1"
   ],
   "id": "ad6f91eb724f181c",
   "outputs": [
    {
     "data": {
      "text/plain": [
       "(array([ 14,  46, 131, 220, 244, 192, 100,  41,   9,   3]),\n",
       " array([-26.71877363, -20.66615137, -14.61352912,  -8.56090686,\n",
       "         -2.5082846 ,   3.54433766,   9.59695992,  15.64958218,\n",
       "         21.70220444,  27.7548267 ,  33.80744896]))"
      ]
     },
     "execution_count": 60,
     "metadata": {},
     "output_type": "execute_result"
    }
   ],
   "execution_count": 60
  },
  {
   "metadata": {
    "ExecuteTime": {
     "end_time": "2024-09-27T19:05:29.273274Z",
     "start_time": "2024-09-27T19:05:28.826773Z"
    }
   },
   "cell_type": "code",
   "source": [
    "plt.bar(range(0, 10), h1[0])\n",
    "plt.show()"
   ],
   "id": "819e41aac63b5816",
   "outputs": [
    {
     "data": {
      "text/plain": [
       "<Figure size 640x480 with 1 Axes>"
      ],
      "image/png": "[encoded data removed]"
     },
     "metadata": {},
     "output_type": "display_data"
    }
   ],
   "execution_count": 63
  },
  {
   "metadata": {
    "ExecuteTime": {
     "end_time": "2024-09-27T19:17:26.351754Z",
     "start_time": "2024-09-27T19:17:25.918500Z"
    }
   },
   "cell_type": "code",
   "source": [
    "plt.hist(data, 50, zorder=5)\n",
    "plt.grid(True)\n",
    "plt.show()"
   ],
   "id": "7c780005c5e405b3",
   "outputs": [
    {
     "data": {
      "text/plain": [
       "<Figure size 640x480 with 1 Axes>"
      ],
      "image/png": "[encoded data removed]"
     },
     "metadata": {},
     "output_type": "display_data"
    }
   ],
   "execution_count": 68
  },
  {
   "metadata": {},
   "cell_type": "code",
   "outputs": [],
   "execution_count": null,
   "source": "",
   "id": "5e6d70e21e70a72"
  }
 ],
 "metadata": {
  "kernelspec": {
   "display_name": "Python 3",
   "language": "python",
   "name": "python3"
  },
  "language_info": {
   "codemirror_mode": {
    "name": "ipython",
    "version": 2
   },
   "file_extension": ".py",
   "mimetype": "text/x-python",
   "name": "python",
   "nbconvert_exporter": "python",
   "pygments_lexer": "ipython2",
   "version": "2.7.6"
  }
 },
 "nbformat": 4,
 "nbformat_minor": 5
}
