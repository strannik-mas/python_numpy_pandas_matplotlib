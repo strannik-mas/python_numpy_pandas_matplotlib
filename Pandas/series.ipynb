{
 "cells": [
  {
   "cell_type": "code",
   "id": "initial_id",
   "metadata": {
    "collapsed": true,
    "ExecuteTime": {
     "end_time": "2024-09-22T18:19:25.951350Z",
     "start_time": "2024-09-22T18:19:23.723340Z"
    }
   },
   "source": "import pandas as pd",
   "outputs": [],
   "execution_count": 1
  },
  {
   "metadata": {
    "ExecuteTime": {
     "end_time": "2024-09-21T20:39:12.347219Z",
     "start_time": "2024-09-21T20:39:12.332997Z"
    }
   },
   "cell_type": "code",
   "source": [
    "a = [54,6,7,43,43]\n",
    "b = [True, False, True]\n",
    "s = pd.Series(b)\n",
    "s"
   ],
   "id": "3cdc0ddd5ddd7ef9",
   "outputs": [
    {
     "data": {
      "text/plain": [
       "0     True\n",
       "1    False\n",
       "2     True\n",
       "dtype: bool"
      ]
     },
     "execution_count": 10,
     "metadata": {},
     "output_type": "execute_result"
    }
   ],
   "execution_count": 10
  },
  {
   "metadata": {
    "ExecuteTime": {
     "end_time": "2024-09-21T20:39:07.172625Z",
     "start_time": "2024-09-21T20:39:07.161910Z"
    }
   },
   "cell_type": "code",
   "source": [
    "v = pd.Series(a)\n",
    "v"
   ],
   "id": "9e3ce0e1e3e7885",
   "outputs": [
    {
     "data": {
      "text/plain": [
       "0    54\n",
       "1     6\n",
       "2     7\n",
       "3    43\n",
       "4    43\n",
       "dtype: int64"
      ]
     },
     "execution_count": 9,
     "metadata": {},
     "output_type": "execute_result"
    }
   ],
   "execution_count": 9
  },
  {
   "metadata": {
    "ExecuteTime": {
     "end_time": "2024-09-21T20:40:43.492651Z",
     "start_time": "2024-09-21T20:40:43.462139Z"
    }
   },
   "cell_type": "code",
   "source": "pd.Series(range(10,100,10))",
   "id": "1b083bdd576b0331",
   "outputs": [
    {
     "data": {
      "text/plain": [
       "0    10\n",
       "1    20\n",
       "2    30\n",
       "3    40\n",
       "4    50\n",
       "5    60\n",
       "6    70\n",
       "7    80\n",
       "8    90\n",
       "dtype: int64"
      ]
     },
     "execution_count": 11,
     "metadata": {},
     "output_type": "execute_result"
    }
   ],
   "execution_count": 11
  },
  {
   "metadata": {
    "ExecuteTime": {
     "end_time": "2024-09-21T20:46:16.012617Z",
     "start_time": "2024-09-21T20:46:15.995567Z"
    }
   },
   "cell_type": "code",
   "source": [
    "s = ['hello', 'world', 'adsf']\n",
    "r = pd.Series(s, ['privet', 'mir', 'f'])\n",
    "r"
   ],
   "id": "edfab4f65961fd9c",
   "outputs": [
    {
     "data": {
      "text/plain": [
       "privet    hello\n",
       "mir       world\n",
       "f          adsf\n",
       "dtype: object"
      ]
     },
     "execution_count": 23,
     "metadata": {},
     "output_type": "execute_result"
    }
   ],
   "execution_count": 23
  },
  {
   "metadata": {
    "ExecuteTime": {
     "end_time": "2024-09-21T20:44:37.234386Z",
     "start_time": "2024-09-21T20:44:37.219515Z"
    }
   },
   "cell_type": "code",
   "source": "r['privet']",
   "id": "fec34fe204d231d9",
   "outputs": [
    {
     "data": {
      "text/plain": [
       "'hello'"
      ]
     },
     "execution_count": 17,
     "metadata": {},
     "output_type": "execute_result"
    }
   ],
   "execution_count": 17
  },
  {
   "metadata": {
    "ExecuteTime": {
     "end_time": "2024-09-21T20:45:19.449763Z",
     "start_time": "2024-09-21T20:45:19.432757Z"
    }
   },
   "cell_type": "code",
   "source": "r[0]",
   "id": "12a3394dfadf7feb",
   "outputs": [
    {
     "name": "stderr",
     "output_type": "stream",
     "text": [
      "C:\\Users\\Strannik\\AppData\\Local\\Temp\\ipykernel_4596\\1834848295.py:1: FutureWarning: Series.__getitem__ treating keys as positions is deprecated. In a future version, integer keys will always be treated as labels (consistent with DataFrame behavior). To access a value by position, use `ser.iloc[pos]`\n",
      "  r[0]\n"
     ]
    },
    {
     "data": {
      "text/plain": [
       "'hello'"
      ]
     },
     "execution_count": 19,
     "metadata": {},
     "output_type": "execute_result"
    }
   ],
   "execution_count": 19
  },
  {
   "metadata": {
    "ExecuteTime": {
     "end_time": "2024-09-21T20:45:29.503054Z",
     "start_time": "2024-09-21T20:45:29.490827Z"
    }
   },
   "cell_type": "code",
   "source": "r.iloc[0]",
   "id": "6bcb42d45e39ae39",
   "outputs": [
    {
     "data": {
      "text/plain": [
       "'hello'"
      ]
     },
     "execution_count": 21,
     "metadata": {},
     "output_type": "execute_result"
    }
   ],
   "execution_count": 21
  },
  {
   "metadata": {
    "ExecuteTime": {
     "end_time": "2024-09-21T20:47:15.574810Z",
     "start_time": "2024-09-21T20:47:15.559473Z"
    }
   },
   "cell_type": "code",
   "source": [
    "d = {'привет': 'hello', 'mir': 'world', 'f': 'asdf'}\n",
    "t = pd.Series(d)\n",
    "t"
   ],
   "id": "7db2971000cf1c1f",
   "outputs": [
    {
     "data": {
      "text/plain": [
       "привет    hello\n",
       "mir       world\n",
       "f          asdf\n",
       "dtype: object"
      ]
     },
     "execution_count": 24,
     "metadata": {},
     "output_type": "execute_result"
    }
   ],
   "execution_count": 24
  },
  {
   "metadata": {
    "ExecuteTime": {
     "end_time": "2024-09-21T20:47:24.512488Z",
     "start_time": "2024-09-21T20:47:24.496490Z"
    }
   },
   "cell_type": "code",
   "source": "t['f']",
   "id": "f8e55bfc79f631b7",
   "outputs": [
    {
     "data": {
      "text/plain": [
       "'asdf'"
      ]
     },
     "execution_count": 25,
     "metadata": {},
     "output_type": "execute_result"
    }
   ],
   "execution_count": 25
  },
  {
   "metadata": {
    "ExecuteTime": {
     "end_time": "2024-09-21T20:49:14.617996Z",
     "start_time": "2024-09-21T20:49:14.606157Z"
    }
   },
   "cell_type": "code",
   "source": "pd.Series(list('world'))",
   "id": "252da6e20dab4347",
   "outputs": [
    {
     "data": {
      "text/plain": [
       "0    w\n",
       "1    o\n",
       "2    r\n",
       "3    l\n",
       "4    d\n",
       "dtype: object"
      ]
     },
     "execution_count": 26,
     "metadata": {},
     "output_type": "execute_result"
    }
   ],
   "execution_count": 26
  },
  {
   "metadata": {
    "ExecuteTime": {
     "end_time": "2024-09-22T18:21:11.480675Z",
     "start_time": "2024-09-22T18:21:11.446403Z"
    }
   },
   "cell_type": "code",
   "source": [
    "a = [33,254,1,33,5,66,34,65,234,28883,2,-6]\n",
    "data = pd.Series(a)\n",
    "data"
   ],
   "id": "dce5ac7c91967e10",
   "outputs": [
    {
     "data": {
      "text/plain": [
       "0        33\n",
       "1       254\n",
       "2         1\n",
       "3        33\n",
       "4         5\n",
       "5        66\n",
       "6        34\n",
       "7        65\n",
       "8       234\n",
       "9     28883\n",
       "10        2\n",
       "11       -6\n",
       "dtype: int64"
      ]
     },
     "execution_count": 3,
     "metadata": {},
     "output_type": "execute_result"
    }
   ],
   "execution_count": 3
  },
  {
   "metadata": {
    "ExecuteTime": {
     "end_time": "2024-09-22T18:21:45.827815Z",
     "start_time": "2024-09-22T18:21:45.813271Z"
    }
   },
   "cell_type": "code",
   "source": [
    "data = data+2\n",
    "data"
   ],
   "id": "5da06e6d06deb907",
   "outputs": [
    {
     "data": {
      "text/plain": [
       "0        35\n",
       "1       256\n",
       "2         3\n",
       "3        35\n",
       "4         7\n",
       "5        68\n",
       "6        36\n",
       "7        67\n",
       "8       236\n",
       "9     28885\n",
       "10        4\n",
       "11       -4\n",
       "dtype: int64"
      ]
     },
     "execution_count": 4,
     "metadata": {},
     "output_type": "execute_result"
    }
   ],
   "execution_count": 4
  },
  {
   "metadata": {
    "ExecuteTime": {
     "end_time": "2024-09-22T18:24:18.938729Z",
     "start_time": "2024-09-22T18:24:18.907124Z"
    }
   },
   "cell_type": "code",
   "source": "data*2",
   "id": "402e2b6d95077110",
   "outputs": [
    {
     "data": {
      "text/plain": [
       "0        66\n",
       "1       508\n",
       "2         2\n",
       "3        66\n",
       "4        10\n",
       "5       132\n",
       "6        68\n",
       "7       130\n",
       "8       468\n",
       "9     57766\n",
       "10        4\n",
       "11      -12\n",
       "dtype: int64"
      ]
     },
     "execution_count": 5,
     "metadata": {},
     "output_type": "execute_result"
    }
   ],
   "execution_count": 5
  },
  {
   "metadata": {
    "ExecuteTime": {
     "end_time": "2024-09-22T18:24:26.520073Z",
     "start_time": "2024-09-22T18:24:26.495493Z"
    }
   },
   "cell_type": "code",
   "source": "data-2",
   "id": "52f86582e8a44216",
   "outputs": [
    {
     "data": {
      "text/plain": [
       "0        31\n",
       "1       252\n",
       "2        -1\n",
       "3        31\n",
       "4         3\n",
       "5        64\n",
       "6        32\n",
       "7        63\n",
       "8       232\n",
       "9     28881\n",
       "10        0\n",
       "11       -8\n",
       "dtype: int64"
      ]
     },
     "execution_count": 6,
     "metadata": {},
     "output_type": "execute_result"
    }
   ],
   "execution_count": 6
  },
  {
   "metadata": {
    "ExecuteTime": {
     "end_time": "2024-09-22T18:24:34.227211Z",
     "start_time": "2024-09-22T18:24:34.207211Z"
    }
   },
   "cell_type": "code",
   "source": "data/2",
   "id": "4b0b48072fb801a8",
   "outputs": [
    {
     "data": {
      "text/plain": [
       "0        16.5\n",
       "1       127.0\n",
       "2         0.5\n",
       "3        16.5\n",
       "4         2.5\n",
       "5        33.0\n",
       "6        17.0\n",
       "7        32.5\n",
       "8       117.0\n",
       "9     14441.5\n",
       "10        1.0\n",
       "11       -3.0\n",
       "dtype: float64"
      ]
     },
     "execution_count": 7,
     "metadata": {},
     "output_type": "execute_result"
    }
   ],
   "execution_count": 7
  },
  {
   "metadata": {
    "ExecuteTime": {
     "end_time": "2024-09-22T18:24:50.968379Z",
     "start_time": "2024-09-22T18:24:50.945378Z"
    }
   },
   "cell_type": "code",
   "source": "data**2",
   "id": "8e44a2b3e3a16b06",
   "outputs": [
    {
     "data": {
      "text/plain": [
       "0          1089\n",
       "1         64516\n",
       "2             1\n",
       "3          1089\n",
       "4            25\n",
       "5          4356\n",
       "6          1156\n",
       "7          4225\n",
       "8         54756\n",
       "9     834227689\n",
       "10            4\n",
       "11           36\n",
       "dtype: int64"
      ]
     },
     "execution_count": 8,
     "metadata": {},
     "output_type": "execute_result"
    }
   ],
   "execution_count": 8
  },
  {
   "metadata": {
    "ExecuteTime": {
     "end_time": "2024-09-22T18:25:11.782591Z",
     "start_time": "2024-09-22T18:25:11.758432Z"
    }
   },
   "cell_type": "code",
   "source": "data//2",
   "id": "14abb0fdff9caec9",
   "outputs": [
    {
     "data": {
      "text/plain": [
       "0        16\n",
       "1       127\n",
       "2         0\n",
       "3        16\n",
       "4         2\n",
       "5        33\n",
       "6        17\n",
       "7        32\n",
       "8       117\n",
       "9     14441\n",
       "10        1\n",
       "11       -3\n",
       "dtype: int64"
      ]
     },
     "execution_count": 9,
     "metadata": {},
     "output_type": "execute_result"
    }
   ],
   "execution_count": 9
  },
  {
   "metadata": {
    "ExecuteTime": {
     "end_time": "2024-09-22T18:25:28.600157Z",
     "start_time": "2024-09-22T18:25:28.582156Z"
    }
   },
   "cell_type": "code",
   "source": "data%4",
   "id": "a8dbc1dde9edfff5",
   "outputs": [
    {
     "data": {
      "text/plain": [
       "0     1\n",
       "1     2\n",
       "2     1\n",
       "3     1\n",
       "4     1\n",
       "5     2\n",
       "6     2\n",
       "7     1\n",
       "8     2\n",
       "9     3\n",
       "10    2\n",
       "11    2\n",
       "dtype: int64"
      ]
     },
     "execution_count": 10,
     "metadata": {},
     "output_type": "execute_result"
    }
   ],
   "execution_count": 10
  },
  {
   "metadata": {
    "ExecuteTime": {
     "end_time": "2024-09-22T18:26:11.657736Z",
     "start_time": "2024-09-22T18:26:11.632139Z"
    }
   },
   "cell_type": "code",
   "source": "data > 45 ",
   "id": "9a57357f5d33479",
   "outputs": [
    {
     "data": {
      "text/plain": [
       "0     False\n",
       "1      True\n",
       "2     False\n",
       "3     False\n",
       "4     False\n",
       "5      True\n",
       "6     False\n",
       "7      True\n",
       "8      True\n",
       "9      True\n",
       "10    False\n",
       "11    False\n",
       "dtype: bool"
      ]
     },
     "execution_count": 11,
     "metadata": {},
     "output_type": "execute_result"
    }
   ],
   "execution_count": 11
  },
  {
   "metadata": {
    "ExecuteTime": {
     "end_time": "2024-09-22T19:04:47.350367Z",
     "start_time": "2024-09-22T19:04:47.334811Z"
    }
   },
   "cell_type": "code",
   "source": "max(data)",
   "id": "13c1c6850023dee5",
   "outputs": [
    {
     "data": {
      "text/plain": [
       "28883"
      ]
     },
     "execution_count": 12,
     "metadata": {},
     "output_type": "execute_result"
    }
   ],
   "execution_count": 12
  },
  {
   "metadata": {
    "ExecuteTime": {
     "end_time": "2024-09-22T19:04:53.349004Z",
     "start_time": "2024-09-22T19:04:53.331756Z"
    }
   },
   "cell_type": "code",
   "source": "min(data)",
   "id": "66b86e9b775813f0",
   "outputs": [
    {
     "data": {
      "text/plain": [
       "-6"
      ]
     },
     "execution_count": 13,
     "metadata": {},
     "output_type": "execute_result"
    }
   ],
   "execution_count": 13
  },
  {
   "metadata": {
    "ExecuteTime": {
     "end_time": "2024-09-22T19:05:03.694728Z",
     "start_time": "2024-09-22T19:05:03.666382Z"
    }
   },
   "cell_type": "code",
   "source": "sum(data)",
   "id": "1bb58a157ab40d7",
   "outputs": [
    {
     "data": {
      "text/plain": [
       "29604"
      ]
     },
     "execution_count": 14,
     "metadata": {},
     "output_type": "execute_result"
    }
   ],
   "execution_count": 14
  },
  {
   "metadata": {
    "ExecuteTime": {
     "end_time": "2024-09-22T19:05:10.905963Z",
     "start_time": "2024-09-22T19:05:10.888540Z"
    }
   },
   "cell_type": "code",
   "source": "sorted(data)",
   "id": "ce0dc32f1f3942a4",
   "outputs": [
    {
     "data": {
      "text/plain": [
       "[-6, 1, 2, 5, 33, 33, 34, 65, 66, 234, 254, 28883]"
      ]
     },
     "execution_count": 15,
     "metadata": {},
     "output_type": "execute_result"
    }
   ],
   "execution_count": 15
  },
  {
   "metadata": {
    "ExecuteTime": {
     "end_time": "2024-09-22T19:05:25.703665Z",
     "start_time": "2024-09-22T19:05:25.687660Z"
    }
   },
   "cell_type": "code",
   "source": "list(data)",
   "id": "d7b3baf411135a9a",
   "outputs": [
    {
     "data": {
      "text/plain": [
       "[33, 254, 1, 33, 5, 66, 34, 65, 234, 28883, 2, -6]"
      ]
     },
     "execution_count": 16,
     "metadata": {},
     "output_type": "execute_result"
    }
   ],
   "execution_count": 16
  },
  {
   "metadata": {
    "ExecuteTime": {
     "end_time": "2024-09-22T19:05:35.103440Z",
     "start_time": "2024-09-22T19:05:35.086438Z"
    }
   },
   "cell_type": "code",
   "source": "tuple(data)",
   "id": "553a7515593d28e9",
   "outputs": [
    {
     "data": {
      "text/plain": [
       "(33, 254, 1, 33, 5, 66, 34, 65, 234, 28883, 2, -6)"
      ]
     },
     "execution_count": 17,
     "metadata": {},
     "output_type": "execute_result"
    }
   ],
   "execution_count": 17
  },
  {
   "metadata": {
    "ExecuteTime": {
     "end_time": "2024-09-22T19:05:39.375436Z",
     "start_time": "2024-09-22T19:05:39.359326Z"
    }
   },
   "cell_type": "code",
   "source": "set(data)",
   "id": "dbf7e02d65f0419",
   "outputs": [
    {
     "data": {
      "text/plain": [
       "{-6, 1, 2, 5, 33, 34, 65, 66, 234, 254, 28883}"
      ]
     },
     "execution_count": 18,
     "metadata": {},
     "output_type": "execute_result"
    }
   ],
   "execution_count": 18
  },
  {
   "metadata": {
    "ExecuteTime": {
     "end_time": "2024-09-22T19:06:56.799743Z",
     "start_time": "2024-09-22T19:06:56.784959Z"
    }
   },
   "cell_type": "code",
   "source": [
    "b = ['hello', 'world', 'suka']\n",
    "s= pd.Series(b)\n",
    "s"
   ],
   "id": "6956a848364dffaf",
   "outputs": [
    {
     "data": {
      "text/plain": [
       "0    hello\n",
       "1    world\n",
       "2     suka\n",
       "dtype: object"
      ]
     },
     "execution_count": 20,
     "metadata": {},
     "output_type": "execute_result"
    }
   ],
   "execution_count": 20
  },
  {
   "metadata": {
    "ExecuteTime": {
     "end_time": "2024-09-22T19:07:02.962885Z",
     "start_time": "2024-09-22T19:07:01.418893Z"
    }
   },
   "cell_type": "code",
   "source": "s+2",
   "id": "b458fec4ee7bfb42",
   "outputs": [
    {
     "ename": "TypeError",
     "evalue": "can only concatenate str (not \"int\") to str",
     "output_type": "error",
     "traceback": [
      "\u001B[1;31m---------------------------------------------------------------------------\u001B[0m",
      "\u001B[1;31mTypeError\u001B[0m                                 Traceback (most recent call last)",
      "File \u001B[1;32m~\\AppData\\Local\\Programs\\Python\\Python312\\Lib\\site-packages\\pandas\\core\\ops\\array_ops.py:218\u001B[0m, in \u001B[0;36m_na_arithmetic_op\u001B[1;34m(left, right, op, is_cmp)\u001B[0m\n\u001B[0;32m    217\u001B[0m \u001B[38;5;28;01mtry\u001B[39;00m:\n\u001B[1;32m--> 218\u001B[0m     result \u001B[38;5;241m=\u001B[39m \u001B[43mfunc\u001B[49m\u001B[43m(\u001B[49m\u001B[43mleft\u001B[49m\u001B[43m,\u001B[49m\u001B[43m \u001B[49m\u001B[43mright\u001B[49m\u001B[43m)\u001B[49m\n\u001B[0;32m    219\u001B[0m \u001B[38;5;28;01mexcept\u001B[39;00m \u001B[38;5;167;01mTypeError\u001B[39;00m:\n",
      "File \u001B[1;32m~\\AppData\\Local\\Programs\\Python\\Python312\\Lib\\site-packages\\pandas\\core\\computation\\expressions.py:242\u001B[0m, in \u001B[0;36mevaluate\u001B[1;34m(op, a, b, use_numexpr)\u001B[0m\n\u001B[0;32m    240\u001B[0m     \u001B[38;5;28;01mif\u001B[39;00m use_numexpr:\n\u001B[0;32m    241\u001B[0m         \u001B[38;5;66;03m# error: \"None\" not callable\u001B[39;00m\n\u001B[1;32m--> 242\u001B[0m         \u001B[38;5;28;01mreturn\u001B[39;00m \u001B[43m_evaluate\u001B[49m\u001B[43m(\u001B[49m\u001B[43mop\u001B[49m\u001B[43m,\u001B[49m\u001B[43m \u001B[49m\u001B[43mop_str\u001B[49m\u001B[43m,\u001B[49m\u001B[43m \u001B[49m\u001B[43ma\u001B[49m\u001B[43m,\u001B[49m\u001B[43m \u001B[49m\u001B[43mb\u001B[49m\u001B[43m)\u001B[49m  \u001B[38;5;66;03m# type: ignore[misc]\u001B[39;00m\n\u001B[0;32m    243\u001B[0m \u001B[38;5;28;01mreturn\u001B[39;00m _evaluate_standard(op, op_str, a, b)\n",
      "File \u001B[1;32m~\\AppData\\Local\\Programs\\Python\\Python312\\Lib\\site-packages\\pandas\\core\\computation\\expressions.py:73\u001B[0m, in \u001B[0;36m_evaluate_standard\u001B[1;34m(op, op_str, a, b)\u001B[0m\n\u001B[0;32m     72\u001B[0m     _store_test_result(\u001B[38;5;28;01mFalse\u001B[39;00m)\n\u001B[1;32m---> 73\u001B[0m \u001B[38;5;28;01mreturn\u001B[39;00m \u001B[43mop\u001B[49m\u001B[43m(\u001B[49m\u001B[43ma\u001B[49m\u001B[43m,\u001B[49m\u001B[43m \u001B[49m\u001B[43mb\u001B[49m\u001B[43m)\u001B[49m\n",
      "\u001B[1;31mTypeError\u001B[0m: can only concatenate str (not \"int\") to str",
      "\nDuring handling of the above exception, another exception occurred:\n",
      "\u001B[1;31mTypeError\u001B[0m                                 Traceback (most recent call last)",
      "Cell \u001B[1;32mIn[21], line 1\u001B[0m\n\u001B[1;32m----> 1\u001B[0m \u001B[43ms\u001B[49m\u001B[38;5;241;43m+\u001B[39;49m\u001B[38;5;241;43m2\u001B[39;49m\n",
      "File \u001B[1;32m~\\AppData\\Local\\Programs\\Python\\Python312\\Lib\\site-packages\\pandas\\core\\ops\\common.py:76\u001B[0m, in \u001B[0;36m_unpack_zerodim_and_defer.<locals>.new_method\u001B[1;34m(self, other)\u001B[0m\n\u001B[0;32m     72\u001B[0m             \u001B[38;5;28;01mreturn\u001B[39;00m \u001B[38;5;28mNotImplemented\u001B[39m\n\u001B[0;32m     74\u001B[0m other \u001B[38;5;241m=\u001B[39m item_from_zerodim(other)\n\u001B[1;32m---> 76\u001B[0m \u001B[38;5;28;01mreturn\u001B[39;00m \u001B[43mmethod\u001B[49m\u001B[43m(\u001B[49m\u001B[38;5;28;43mself\u001B[39;49m\u001B[43m,\u001B[49m\u001B[43m \u001B[49m\u001B[43mother\u001B[49m\u001B[43m)\u001B[49m\n",
      "File \u001B[1;32m~\\AppData\\Local\\Programs\\Python\\Python312\\Lib\\site-packages\\pandas\\core\\arraylike.py:186\u001B[0m, in \u001B[0;36mOpsMixin.__add__\u001B[1;34m(self, other)\u001B[0m\n\u001B[0;32m     98\u001B[0m \u001B[38;5;129m@unpack_zerodim_and_defer\u001B[39m(\u001B[38;5;124m\"\u001B[39m\u001B[38;5;124m__add__\u001B[39m\u001B[38;5;124m\"\u001B[39m)\n\u001B[0;32m     99\u001B[0m \u001B[38;5;28;01mdef\u001B[39;00m \u001B[38;5;21m__add__\u001B[39m(\u001B[38;5;28mself\u001B[39m, other):\n\u001B[0;32m    100\u001B[0m \u001B[38;5;250m    \u001B[39m\u001B[38;5;124;03m\"\"\"\u001B[39;00m\n\u001B[0;32m    101\u001B[0m \u001B[38;5;124;03m    Get Addition of DataFrame and other, column-wise.\u001B[39;00m\n\u001B[0;32m    102\u001B[0m \n\u001B[1;32m   (...)\u001B[0m\n\u001B[0;32m    184\u001B[0m \u001B[38;5;124;03m    moose     3.0     NaN\u001B[39;00m\n\u001B[0;32m    185\u001B[0m \u001B[38;5;124;03m    \"\"\"\u001B[39;00m\n\u001B[1;32m--> 186\u001B[0m     \u001B[38;5;28;01mreturn\u001B[39;00m \u001B[38;5;28;43mself\u001B[39;49m\u001B[38;5;241;43m.\u001B[39;49m\u001B[43m_arith_method\u001B[49m\u001B[43m(\u001B[49m\u001B[43mother\u001B[49m\u001B[43m,\u001B[49m\u001B[43m \u001B[49m\u001B[43moperator\u001B[49m\u001B[38;5;241;43m.\u001B[39;49m\u001B[43madd\u001B[49m\u001B[43m)\u001B[49m\n",
      "File \u001B[1;32m~\\AppData\\Local\\Programs\\Python\\Python312\\Lib\\site-packages\\pandas\\core\\series.py:6135\u001B[0m, in \u001B[0;36mSeries._arith_method\u001B[1;34m(self, other, op)\u001B[0m\n\u001B[0;32m   6133\u001B[0m \u001B[38;5;28;01mdef\u001B[39;00m \u001B[38;5;21m_arith_method\u001B[39m(\u001B[38;5;28mself\u001B[39m, other, op):\n\u001B[0;32m   6134\u001B[0m     \u001B[38;5;28mself\u001B[39m, other \u001B[38;5;241m=\u001B[39m \u001B[38;5;28mself\u001B[39m\u001B[38;5;241m.\u001B[39m_align_for_op(other)\n\u001B[1;32m-> 6135\u001B[0m     \u001B[38;5;28;01mreturn\u001B[39;00m \u001B[43mbase\u001B[49m\u001B[38;5;241;43m.\u001B[39;49m\u001B[43mIndexOpsMixin\u001B[49m\u001B[38;5;241;43m.\u001B[39;49m\u001B[43m_arith_method\u001B[49m\u001B[43m(\u001B[49m\u001B[38;5;28;43mself\u001B[39;49m\u001B[43m,\u001B[49m\u001B[43m \u001B[49m\u001B[43mother\u001B[49m\u001B[43m,\u001B[49m\u001B[43m \u001B[49m\u001B[43mop\u001B[49m\u001B[43m)\u001B[49m\n",
      "File \u001B[1;32m~\\AppData\\Local\\Programs\\Python\\Python312\\Lib\\site-packages\\pandas\\core\\base.py:1382\u001B[0m, in \u001B[0;36mIndexOpsMixin._arith_method\u001B[1;34m(self, other, op)\u001B[0m\n\u001B[0;32m   1379\u001B[0m     rvalues \u001B[38;5;241m=\u001B[39m np\u001B[38;5;241m.\u001B[39marange(rvalues\u001B[38;5;241m.\u001B[39mstart, rvalues\u001B[38;5;241m.\u001B[39mstop, rvalues\u001B[38;5;241m.\u001B[39mstep)\n\u001B[0;32m   1381\u001B[0m \u001B[38;5;28;01mwith\u001B[39;00m np\u001B[38;5;241m.\u001B[39merrstate(\u001B[38;5;28mall\u001B[39m\u001B[38;5;241m=\u001B[39m\u001B[38;5;124m\"\u001B[39m\u001B[38;5;124mignore\u001B[39m\u001B[38;5;124m\"\u001B[39m):\n\u001B[1;32m-> 1382\u001B[0m     result \u001B[38;5;241m=\u001B[39m \u001B[43mops\u001B[49m\u001B[38;5;241;43m.\u001B[39;49m\u001B[43marithmetic_op\u001B[49m\u001B[43m(\u001B[49m\u001B[43mlvalues\u001B[49m\u001B[43m,\u001B[49m\u001B[43m \u001B[49m\u001B[43mrvalues\u001B[49m\u001B[43m,\u001B[49m\u001B[43m \u001B[49m\u001B[43mop\u001B[49m\u001B[43m)\u001B[49m\n\u001B[0;32m   1384\u001B[0m \u001B[38;5;28;01mreturn\u001B[39;00m \u001B[38;5;28mself\u001B[39m\u001B[38;5;241m.\u001B[39m_construct_result(result, name\u001B[38;5;241m=\u001B[39mres_name)\n",
      "File \u001B[1;32m~\\AppData\\Local\\Programs\\Python\\Python312\\Lib\\site-packages\\pandas\\core\\ops\\array_ops.py:283\u001B[0m, in \u001B[0;36marithmetic_op\u001B[1;34m(left, right, op)\u001B[0m\n\u001B[0;32m    279\u001B[0m     _bool_arith_check(op, left, right)  \u001B[38;5;66;03m# type: ignore[arg-type]\u001B[39;00m\n\u001B[0;32m    281\u001B[0m     \u001B[38;5;66;03m# error: Argument 1 to \"_na_arithmetic_op\" has incompatible type\u001B[39;00m\n\u001B[0;32m    282\u001B[0m     \u001B[38;5;66;03m# \"Union[ExtensionArray, ndarray[Any, Any]]\"; expected \"ndarray[Any, Any]\"\u001B[39;00m\n\u001B[1;32m--> 283\u001B[0m     res_values \u001B[38;5;241m=\u001B[39m \u001B[43m_na_arithmetic_op\u001B[49m\u001B[43m(\u001B[49m\u001B[43mleft\u001B[49m\u001B[43m,\u001B[49m\u001B[43m \u001B[49m\u001B[43mright\u001B[49m\u001B[43m,\u001B[49m\u001B[43m \u001B[49m\u001B[43mop\u001B[49m\u001B[43m)\u001B[49m  \u001B[38;5;66;03m# type: ignore[arg-type]\u001B[39;00m\n\u001B[0;32m    285\u001B[0m \u001B[38;5;28;01mreturn\u001B[39;00m res_values\n",
      "File \u001B[1;32m~\\AppData\\Local\\Programs\\Python\\Python312\\Lib\\site-packages\\pandas\\core\\ops\\array_ops.py:227\u001B[0m, in \u001B[0;36m_na_arithmetic_op\u001B[1;34m(left, right, op, is_cmp)\u001B[0m\n\u001B[0;32m    219\u001B[0m \u001B[38;5;28;01mexcept\u001B[39;00m \u001B[38;5;167;01mTypeError\u001B[39;00m:\n\u001B[0;32m    220\u001B[0m     \u001B[38;5;28;01mif\u001B[39;00m \u001B[38;5;129;01mnot\u001B[39;00m is_cmp \u001B[38;5;129;01mand\u001B[39;00m (\n\u001B[0;32m    221\u001B[0m         left\u001B[38;5;241m.\u001B[39mdtype \u001B[38;5;241m==\u001B[39m \u001B[38;5;28mobject\u001B[39m \u001B[38;5;129;01mor\u001B[39;00m \u001B[38;5;28mgetattr\u001B[39m(right, \u001B[38;5;124m\"\u001B[39m\u001B[38;5;124mdtype\u001B[39m\u001B[38;5;124m\"\u001B[39m, \u001B[38;5;28;01mNone\u001B[39;00m) \u001B[38;5;241m==\u001B[39m \u001B[38;5;28mobject\u001B[39m\n\u001B[0;32m    222\u001B[0m     ):\n\u001B[1;32m   (...)\u001B[0m\n\u001B[0;32m    225\u001B[0m         \u001B[38;5;66;03m# Don't do this for comparisons, as that will handle complex numbers\u001B[39;00m\n\u001B[0;32m    226\u001B[0m         \u001B[38;5;66;03m#  incorrectly, see GH#32047\u001B[39;00m\n\u001B[1;32m--> 227\u001B[0m         result \u001B[38;5;241m=\u001B[39m \u001B[43m_masked_arith_op\u001B[49m\u001B[43m(\u001B[49m\u001B[43mleft\u001B[49m\u001B[43m,\u001B[49m\u001B[43m \u001B[49m\u001B[43mright\u001B[49m\u001B[43m,\u001B[49m\u001B[43m \u001B[49m\u001B[43mop\u001B[49m\u001B[43m)\u001B[49m\n\u001B[0;32m    228\u001B[0m     \u001B[38;5;28;01melse\u001B[39;00m:\n\u001B[0;32m    229\u001B[0m         \u001B[38;5;28;01mraise\u001B[39;00m\n",
      "File \u001B[1;32m~\\AppData\\Local\\Programs\\Python\\Python312\\Lib\\site-packages\\pandas\\core\\ops\\array_ops.py:182\u001B[0m, in \u001B[0;36m_masked_arith_op\u001B[1;34m(x, y, op)\u001B[0m\n\u001B[0;32m    179\u001B[0m         mask \u001B[38;5;241m=\u001B[39m np\u001B[38;5;241m.\u001B[39mwhere(y \u001B[38;5;241m==\u001B[39m \u001B[38;5;241m1\u001B[39m, \u001B[38;5;28;01mFalse\u001B[39;00m, mask)\n\u001B[0;32m    181\u001B[0m     \u001B[38;5;28;01mif\u001B[39;00m mask\u001B[38;5;241m.\u001B[39many():\n\u001B[1;32m--> 182\u001B[0m         result[mask] \u001B[38;5;241m=\u001B[39m \u001B[43mop\u001B[49m\u001B[43m(\u001B[49m\u001B[43mxrav\u001B[49m\u001B[43m[\u001B[49m\u001B[43mmask\u001B[49m\u001B[43m]\u001B[49m\u001B[43m,\u001B[49m\u001B[43m \u001B[49m\u001B[43my\u001B[49m\u001B[43m)\u001B[49m\n\u001B[0;32m    184\u001B[0m np\u001B[38;5;241m.\u001B[39mputmask(result, \u001B[38;5;241m~\u001B[39mmask, np\u001B[38;5;241m.\u001B[39mnan)\n\u001B[0;32m    185\u001B[0m result \u001B[38;5;241m=\u001B[39m result\u001B[38;5;241m.\u001B[39mreshape(x\u001B[38;5;241m.\u001B[39mshape)  \u001B[38;5;66;03m# 2D compat\u001B[39;00m\n",
      "\u001B[1;31mTypeError\u001B[0m: can only concatenate str (not \"int\") to str"
     ]
    }
   ],
   "execution_count": 21
  },
  {
   "metadata": {
    "ExecuteTime": {
     "end_time": "2024-09-22T19:07:16.537759Z",
     "start_time": "2024-09-22T19:07:16.518969Z"
    }
   },
   "cell_type": "code",
   "source": "s + 'abc'",
   "id": "ca43f0d82694d545",
   "outputs": [
    {
     "data": {
      "text/plain": [
       "0    helloabc\n",
       "1    worldabc\n",
       "2     sukaabc\n",
       "dtype: object"
      ]
     },
     "execution_count": 22,
     "metadata": {},
     "output_type": "execute_result"
    }
   ],
   "execution_count": 22
  },
  {
   "metadata": {
    "ExecuteTime": {
     "end_time": "2024-09-22T19:07:23.022044Z",
     "start_time": "2024-09-22T19:07:23.004041Z"
    }
   },
   "cell_type": "code",
   "source": "s*2",
   "id": "1e81c6b9ab6c8661",
   "outputs": [
    {
     "data": {
      "text/plain": [
       "0    hellohello\n",
       "1    worldworld\n",
       "2      sukasuka\n",
       "dtype: object"
      ]
     },
     "execution_count": 23,
     "metadata": {},
     "output_type": "execute_result"
    }
   ],
   "execution_count": 23
  },
  {
   "metadata": {
    "ExecuteTime": {
     "end_time": "2024-09-22T19:07:44.330429Z",
     "start_time": "2024-09-22T19:07:43.614139Z"
    }
   },
   "cell_type": "code",
   "source": "s > 3",
   "id": "55e66655f2961d22",
   "outputs": [
    {
     "ename": "TypeError",
     "evalue": "'>' not supported between instances of 'str' and 'int'",
     "output_type": "error",
     "traceback": [
      "\u001B[1;31m---------------------------------------------------------------------------\u001B[0m",
      "\u001B[1;31mTypeError\u001B[0m                                 Traceback (most recent call last)",
      "Cell \u001B[1;32mIn[24], line 1\u001B[0m\n\u001B[1;32m----> 1\u001B[0m \u001B[43ms\u001B[49m\u001B[43m \u001B[49m\u001B[38;5;241;43m>\u001B[39;49m\u001B[43m \u001B[49m\u001B[38;5;241;43m3\u001B[39;49m\n",
      "File \u001B[1;32m~\\AppData\\Local\\Programs\\Python\\Python312\\Lib\\site-packages\\pandas\\core\\ops\\common.py:76\u001B[0m, in \u001B[0;36m_unpack_zerodim_and_defer.<locals>.new_method\u001B[1;34m(self, other)\u001B[0m\n\u001B[0;32m     72\u001B[0m             \u001B[38;5;28;01mreturn\u001B[39;00m \u001B[38;5;28mNotImplemented\u001B[39m\n\u001B[0;32m     74\u001B[0m other \u001B[38;5;241m=\u001B[39m item_from_zerodim(other)\n\u001B[1;32m---> 76\u001B[0m \u001B[38;5;28;01mreturn\u001B[39;00m \u001B[43mmethod\u001B[49m\u001B[43m(\u001B[49m\u001B[38;5;28;43mself\u001B[39;49m\u001B[43m,\u001B[49m\u001B[43m \u001B[49m\u001B[43mother\u001B[49m\u001B[43m)\u001B[49m\n",
      "File \u001B[1;32m~\\AppData\\Local\\Programs\\Python\\Python312\\Lib\\site-packages\\pandas\\core\\arraylike.py:56\u001B[0m, in \u001B[0;36mOpsMixin.__gt__\u001B[1;34m(self, other)\u001B[0m\n\u001B[0;32m     54\u001B[0m \u001B[38;5;129m@unpack_zerodim_and_defer\u001B[39m(\u001B[38;5;124m\"\u001B[39m\u001B[38;5;124m__gt__\u001B[39m\u001B[38;5;124m\"\u001B[39m)\n\u001B[0;32m     55\u001B[0m \u001B[38;5;28;01mdef\u001B[39;00m \u001B[38;5;21m__gt__\u001B[39m(\u001B[38;5;28mself\u001B[39m, other):\n\u001B[1;32m---> 56\u001B[0m     \u001B[38;5;28;01mreturn\u001B[39;00m \u001B[38;5;28;43mself\u001B[39;49m\u001B[38;5;241;43m.\u001B[39;49m\u001B[43m_cmp_method\u001B[49m\u001B[43m(\u001B[49m\u001B[43mother\u001B[49m\u001B[43m,\u001B[49m\u001B[43m \u001B[49m\u001B[43moperator\u001B[49m\u001B[38;5;241;43m.\u001B[39;49m\u001B[43mgt\u001B[49m\u001B[43m)\u001B[49m\n",
      "File \u001B[1;32m~\\AppData\\Local\\Programs\\Python\\Python312\\Lib\\site-packages\\pandas\\core\\series.py:6119\u001B[0m, in \u001B[0;36mSeries._cmp_method\u001B[1;34m(self, other, op)\u001B[0m\n\u001B[0;32m   6116\u001B[0m lvalues \u001B[38;5;241m=\u001B[39m \u001B[38;5;28mself\u001B[39m\u001B[38;5;241m.\u001B[39m_values\n\u001B[0;32m   6117\u001B[0m rvalues \u001B[38;5;241m=\u001B[39m extract_array(other, extract_numpy\u001B[38;5;241m=\u001B[39m\u001B[38;5;28;01mTrue\u001B[39;00m, extract_range\u001B[38;5;241m=\u001B[39m\u001B[38;5;28;01mTrue\u001B[39;00m)\n\u001B[1;32m-> 6119\u001B[0m res_values \u001B[38;5;241m=\u001B[39m \u001B[43mops\u001B[49m\u001B[38;5;241;43m.\u001B[39;49m\u001B[43mcomparison_op\u001B[49m\u001B[43m(\u001B[49m\u001B[43mlvalues\u001B[49m\u001B[43m,\u001B[49m\u001B[43m \u001B[49m\u001B[43mrvalues\u001B[49m\u001B[43m,\u001B[49m\u001B[43m \u001B[49m\u001B[43mop\u001B[49m\u001B[43m)\u001B[49m\n\u001B[0;32m   6121\u001B[0m \u001B[38;5;28;01mreturn\u001B[39;00m \u001B[38;5;28mself\u001B[39m\u001B[38;5;241m.\u001B[39m_construct_result(res_values, name\u001B[38;5;241m=\u001B[39mres_name)\n",
      "File \u001B[1;32m~\\AppData\\Local\\Programs\\Python\\Python312\\Lib\\site-packages\\pandas\\core\\ops\\array_ops.py:344\u001B[0m, in \u001B[0;36mcomparison_op\u001B[1;34m(left, right, op)\u001B[0m\n\u001B[0;32m    341\u001B[0m     \u001B[38;5;28;01mreturn\u001B[39;00m invalid_comparison(lvalues, rvalues, op)\n\u001B[0;32m    343\u001B[0m \u001B[38;5;28;01melif\u001B[39;00m lvalues\u001B[38;5;241m.\u001B[39mdtype \u001B[38;5;241m==\u001B[39m \u001B[38;5;28mobject\u001B[39m \u001B[38;5;129;01mor\u001B[39;00m \u001B[38;5;28misinstance\u001B[39m(rvalues, \u001B[38;5;28mstr\u001B[39m):\n\u001B[1;32m--> 344\u001B[0m     res_values \u001B[38;5;241m=\u001B[39m \u001B[43mcomp_method_OBJECT_ARRAY\u001B[49m\u001B[43m(\u001B[49m\u001B[43mop\u001B[49m\u001B[43m,\u001B[49m\u001B[43m \u001B[49m\u001B[43mlvalues\u001B[49m\u001B[43m,\u001B[49m\u001B[43m \u001B[49m\u001B[43mrvalues\u001B[49m\u001B[43m)\u001B[49m\n\u001B[0;32m    346\u001B[0m \u001B[38;5;28;01melse\u001B[39;00m:\n\u001B[0;32m    347\u001B[0m     res_values \u001B[38;5;241m=\u001B[39m _na_arithmetic_op(lvalues, rvalues, op, is_cmp\u001B[38;5;241m=\u001B[39m\u001B[38;5;28;01mTrue\u001B[39;00m)\n",
      "File \u001B[1;32m~\\AppData\\Local\\Programs\\Python\\Python312\\Lib\\site-packages\\pandas\\core\\ops\\array_ops.py:129\u001B[0m, in \u001B[0;36mcomp_method_OBJECT_ARRAY\u001B[1;34m(op, x, y)\u001B[0m\n\u001B[0;32m    127\u001B[0m     result \u001B[38;5;241m=\u001B[39m libops\u001B[38;5;241m.\u001B[39mvec_compare(x\u001B[38;5;241m.\u001B[39mravel(), y\u001B[38;5;241m.\u001B[39mravel(), op)\n\u001B[0;32m    128\u001B[0m \u001B[38;5;28;01melse\u001B[39;00m:\n\u001B[1;32m--> 129\u001B[0m     result \u001B[38;5;241m=\u001B[39m \u001B[43mlibops\u001B[49m\u001B[38;5;241;43m.\u001B[39;49m\u001B[43mscalar_compare\u001B[49m\u001B[43m(\u001B[49m\u001B[43mx\u001B[49m\u001B[38;5;241;43m.\u001B[39;49m\u001B[43mravel\u001B[49m\u001B[43m(\u001B[49m\u001B[43m)\u001B[49m\u001B[43m,\u001B[49m\u001B[43m \u001B[49m\u001B[43my\u001B[49m\u001B[43m,\u001B[49m\u001B[43m \u001B[49m\u001B[43mop\u001B[49m\u001B[43m)\u001B[49m\n\u001B[0;32m    130\u001B[0m \u001B[38;5;28;01mreturn\u001B[39;00m result\u001B[38;5;241m.\u001B[39mreshape(x\u001B[38;5;241m.\u001B[39mshape)\n",
      "File \u001B[1;32mops.pyx:107\u001B[0m, in \u001B[0;36mpandas._libs.ops.scalar_compare\u001B[1;34m()\u001B[0m\n",
      "\u001B[1;31mTypeError\u001B[0m: '>' not supported between instances of 'str' and 'int'"
     ]
    }
   ],
   "execution_count": 24
  },
  {
   "metadata": {
    "ExecuteTime": {
     "end_time": "2024-09-22T19:07:49.956465Z",
     "start_time": "2024-09-22T19:07:49.939288Z"
    }
   },
   "cell_type": "code",
   "source": "s > 'abc'",
   "id": "93431686ab36bbce",
   "outputs": [
    {
     "data": {
      "text/plain": [
       "0    True\n",
       "1    True\n",
       "2    True\n",
       "dtype: bool"
      ]
     },
     "execution_count": 25,
     "metadata": {},
     "output_type": "execute_result"
    }
   ],
   "execution_count": 25
  },
  {
   "metadata": {
    "ExecuteTime": {
     "end_time": "2024-09-22T19:09:14.268206Z",
     "start_time": "2024-09-22T19:09:14.254205Z"
    }
   },
   "cell_type": "code",
   "source": "len(data)",
   "id": "ad5e278b2543c2ae",
   "outputs": [
    {
     "data": {
      "text/plain": [
       "12"
      ]
     },
     "execution_count": 27,
     "metadata": {},
     "output_type": "execute_result"
    }
   ],
   "execution_count": 27
  }
 ],
 "metadata": {
  "kernelspec": {
   "display_name": "Python 3",
   "language": "python",
   "name": "python3"
  },
  "language_info": {
   "codemirror_mode": {
    "name": "ipython",
    "version": 2
   },
   "file_extension": ".py",
   "mimetype": "text/x-python",
   "name": "python",
   "nbconvert_exporter": "python",
   "pygments_lexer": "ipython2",
   "version": "2.7.6"
  }
 },
 "nbformat": 4,
 "nbformat_minor": 5
}
