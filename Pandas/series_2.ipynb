{
 "cells": [
  {
   "cell_type": "code",
   "id": "initial_id",
   "metadata": {
    "collapsed": true,
    "ExecuteTime": {
     "end_time": "2024-09-22T19:17:19.434606Z",
     "start_time": "2024-09-22T19:17:19.418607Z"
    }
   },
   "source": [
    "import pandas as pd\n",
    "\n",
    "names = ['Bob', 'Jack', 'Kevin', 'Robin']\n",
    "letters = 'b', 'j', 'k', 'r'\n",
    "# letters\n",
    "numbers = [10,20,30,40,50]\n",
    "\n",
    "s = pd.Series(names)\n",
    "nums = pd.Series(numbers)\n",
    "\n",
    "s.values"
   ],
   "outputs": [
    {
     "data": {
      "text/plain": [
       "array(['Bob', 'Jack', 'Kevin', 'Robin'], dtype=object)"
      ]
     },
     "execution_count": 2,
     "metadata": {},
     "output_type": "execute_result"
    }
   ],
   "execution_count": 2
  },
  {
   "metadata": {
    "ExecuteTime": {
     "end_time": "2024-09-22T19:19:09.418969Z",
     "start_time": "2024-09-22T19:19:09.409327Z"
    }
   },
   "cell_type": "code",
   "source": "s.index",
   "id": "8e21dc681fbc9d62",
   "outputs": [
    {
     "data": {
      "text/plain": [
       "RangeIndex(start=0, stop=4, step=1)"
      ]
     },
     "execution_count": 3,
     "metadata": {},
     "output_type": "execute_result"
    }
   ],
   "execution_count": 3
  },
  {
   "metadata": {
    "ExecuteTime": {
     "end_time": "2024-09-22T19:21:16.538419Z",
     "start_time": "2024-09-22T19:21:16.515976Z"
    }
   },
   "cell_type": "code",
   "source": [
    "s_letters = pd.Series(names, letters)\n",
    "s_letters.index"
   ],
   "id": "3b349c6e84dd3a35",
   "outputs": [
    {
     "data": {
      "text/plain": [
       "Index(['b', 'j', 'k', 'r'], dtype='object')"
      ]
     },
     "execution_count": 5,
     "metadata": {},
     "output_type": "execute_result"
    }
   ],
   "execution_count": 5
  },
  {
   "metadata": {
    "ExecuteTime": {
     "end_time": "2024-09-22T19:21:22.519529Z",
     "start_time": "2024-09-22T19:21:22.497858Z"
    }
   },
   "cell_type": "code",
   "source": "s.is_unique",
   "id": "bed35e8d4215a28f",
   "outputs": [
    {
     "data": {
      "text/plain": [
       "True"
      ]
     },
     "execution_count": 6,
     "metadata": {},
     "output_type": "execute_result"
    }
   ],
   "execution_count": 6
  },
  {
   "metadata": {
    "ExecuteTime": {
     "end_time": "2024-09-22T19:22:10.722518Z",
     "start_time": "2024-09-22T19:22:10.709514Z"
    }
   },
   "cell_type": "code",
   "source": "nums.is_monotonic_increasing",
   "id": "48e37df33557be7e",
   "outputs": [
    {
     "data": {
      "text/plain": [
       "True"
      ]
     },
     "execution_count": 7,
     "metadata": {},
     "output_type": "execute_result"
    }
   ],
   "execution_count": 7
  },
  {
   "metadata": {
    "ExecuteTime": {
     "end_time": "2024-09-22T19:22:28.471745Z",
     "start_time": "2024-09-22T19:22:28.455742Z"
    }
   },
   "cell_type": "code",
   "source": "s.ndim",
   "id": "74fec40a18fcd42a",
   "outputs": [
    {
     "data": {
      "text/plain": [
       "1"
      ]
     },
     "execution_count": 8,
     "metadata": {},
     "output_type": "execute_result"
    }
   ],
   "execution_count": 8
  },
  {
   "metadata": {},
   "cell_type": "code",
   "outputs": [],
   "execution_count": null,
   "source": "",
   "id": "553c2b4013a6e92f"
  }
 ],
 "metadata": {
  "kernelspec": {
   "display_name": "Python 3",
   "language": "python",
   "name": "python3"
  },
  "language_info": {
   "codemirror_mode": {
    "name": "ipython",
    "version": 2
   },
   "file_extension": ".py",
   "mimetype": "text/x-python",
   "name": "python",
   "nbconvert_exporter": "python",
   "pygments_lexer": "ipython2",
   "version": "2.7.6"
  }
 },
 "nbformat": 4,
 "nbformat_minor": 5
}
